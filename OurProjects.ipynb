{
  "cells": [
    {
      "cell_type": "markdown",
      "metadata": {
        "id": "view-in-github",
        "colab_type": "text"
      },
      "source": [
        "<a href=\"https://colab.research.google.com/github/sharkey52/Learn/blob/main/OurProjects.ipynb\" target=\"_parent\"><img src=\"https://colab.research.google.com/assets/colab-badge.svg\" alt=\"Open In Colab\"/></a>"
      ]
    },
    {
      "cell_type": "markdown",
      "metadata": {
        "id": "doAUdypXhXyb"
      },
      "source": [
        "I love you!!!!!"
      ]
    },
    {
      "cell_type": "markdown",
      "metadata": {
        "id": "iduwfU64lbOV"
      },
      "source": [
        "i love you! thanks for playing with me"
      ]
    },
    {
      "cell_type": "markdown",
      "metadata": {
        "id": "GwoU_2lvlBqq"
      },
      "source": [
        "good morning boyfrien!!! i half beat you at countries \n"
      ]
    },
    {
      "cell_type": "code",
      "execution_count": null,
      "metadata": {
        "colab": {
          "base_uri": "https://localhost:8080/",
          "height": 377
        },
        "id": "KWMBY4IN5Izf",
        "outputId": "0219cb82-15aa-4d25-b657-8525e6a9e219"
      },
      "outputs": [
        {
          "output_type": "stream",
          "name": "stdout",
          "text": [
            "                                    *            *              *                               *    *                           *                                         *               *     \n",
            "       *                           *                  *                                           \\  /                   *                                                                 **     \n",
            "                                                        *         *      *                    *  *   *   *                                                      *              *       *          \n",
            "                                   *   *                                 *                     \\__\\_/___/                                                                *    *         *         \n",
            "      *                        *                   *                                        0-_/. ()__-------        *                        *                   *                               \n",
            "                                                          *    *         *                   \\____           /                                    *   *                                 *         \n",
            "                                                 *              *       *                      \\_ \\_ ___   /                                                           *         *      *         \n",
            "          *                                                                 **                  /   |   | |           *                           *                  *                            \n",
            "                   *                                         *               *                 /    |   | |                                      *            *              *                  \n"
          ]
        },
        {
          "output_type": "error",
          "ename": "KeyboardInterrupt",
          "evalue": "ignored",
          "traceback": [
            "\u001b[0;31m---------------------------------------------------------------------------\u001b[0m",
            "\u001b[0;31mKeyboardInterrupt\u001b[0m                         Traceback (most recent call last)",
            "\u001b[0;32m<ipython-input-1-c28d1ae5e053>\u001b[0m in \u001b[0;36m<module>\u001b[0;34m()\u001b[0m\n\u001b[1;32m     33\u001b[0m   \u001b[0mclear_output\u001b[0m\u001b[0;34m(\u001b[0m\u001b[0mwait\u001b[0m\u001b[0;34m=\u001b[0m\u001b[0;32mTrue\u001b[0m\u001b[0;34m)\u001b[0m\u001b[0;34m\u001b[0m\u001b[0;34m\u001b[0m\u001b[0m\n\u001b[1;32m     34\u001b[0m   \u001b[0mprint\u001b[0m\u001b[0;34m(\u001b[0m\u001b[0mrudolph\u001b[0m\u001b[0;34m)\u001b[0m\u001b[0;34m\u001b[0m\u001b[0;34m\u001b[0m\u001b[0m\n\u001b[0;32m---> 35\u001b[0;31m   \u001b[0mtime\u001b[0m\u001b[0;34m.\u001b[0m\u001b[0msleep\u001b[0m\u001b[0;34m(\u001b[0m\u001b[0;36m1\u001b[0m\u001b[0;34m)\u001b[0m\u001b[0;34m\u001b[0m\u001b[0;34m\u001b[0m\u001b[0m\n\u001b[0m",
            "\u001b[0;31mKeyboardInterrupt\u001b[0m: "
          ]
        }
      ],
      "source": [
        "from os import XATTR_SIZE_MAX\n",
        "import time\n",
        "import random\n",
        "from IPython.display import clear_output\n",
        "clear_output(wait=True)\n",
        "\n",
        "def snow(x):\n",
        "  inds = [i for i,_ in enumerate(x)]\n",
        "  sam = (random.sample(inds,3))\n",
        "  lst = list(x)\n",
        "  for ind in sam:\n",
        "      lst[ind] = '*'\n",
        "  x = (\"\".join(lst))\n",
        "  return x\n",
        "\n",
        "\n",
        "n = 100\n",
        "while n > 20:\n",
        "  n = n - 1\n",
        "  x = ' ' * n\n",
        "\n",
        "  q = snow(x)\n",
        "  w = snow(x)\n",
        "  e = snow(x)\n",
        "  r = snow(x)\n",
        "  t = snow(x)\n",
        "  y = snow(x)\n",
        "  u = snow(x)\n",
        "  i = snow(x)\n",
        "  o = snow(x)\n",
        "\n",
        "  rudolph = (q + '             *    *        '+o+'\\n'+w+'               \\  /         '+i+'\\n'+e+'           *  *   *   *     '+u+'\\n'+r+'            \\__\\_/___/      '+y+'\\n'+t+'         0-_/. ()__-------  '+t+'\\n'+y+'          \\____           / '+r+'\\n'+u+'            \\_ \\_ ___   /   '+e+'\\n'+i+'             /   |   | |    '+w+'\\n'+o+'            /    |   | |  '+q+'')  \n",
        "  clear_output(wait=True)\n",
        "  print(rudolph)\n",
        "  time.sleep(1)\n"
      ]
    },
    {
      "cell_type": "code",
      "execution_count": null,
      "metadata": {
        "id": "90lW4ALZ-3Up"
      },
      "outputs": [],
      "source": [
        "alph = 'abcdefghijklmnopqrstuvwxyz'\n",
        "li = []\n",
        "score = 26\n",
        "for i in alph:\n",
        "    add = input(str(i) + '...:')\n",
        "    if add[0] == str(i):\n",
        "        li.append(add)\n",
        "    else:\n",
        "        print('Didnt start with \"' + str(i) + '\"  sorry!!!')\n",
        "        score = score - 1 \n",
        "\n",
        "print('Your score was ' + str(score) + ' out of 26 :D ')\n",
        "print(li)"
      ]
    },
    {
      "cell_type": "code",
      "execution_count": null,
      "metadata": {
        "id": "1O3psg0c_eKF"
      },
      "outputs": [],
      "source": [
        "x='hello erin'\n",
        "print (str (x[6])+'ggs')"
      ]
    },
    {
      "cell_type": "code",
      "execution_count": null,
      "metadata": {
        "id": "8R3G3uuXWsm2"
      },
      "outputs": [],
      "source": [
        "import turtle"
      ]
    },
    {
      "cell_type": "code",
      "execution_count": null,
      "metadata": {
        "id": "qQ4ZxQrcUzhU"
      },
      "outputs": [],
      "source": [
        "x= 8\n",
        "print (str (x) + ' days till christmas')"
      ]
    },
    {
      "cell_type": "code",
      "execution_count": null,
      "metadata": {
        "id": "8fe-YjDZVp3X"
      },
      "outputs": [],
      "source": [
        "import time\n",
        "x= 'i'\n",
        "y= 'love'\n",
        "z= 'you'\n",
        "time.sleep (5)\n",
        "print (x)\n",
        "time.sleep (2)\n",
        "print (y)\n",
        "time.sleep(2)\n",
        "print (z)\n"
      ]
    },
    {
      "cell_type": "code",
      "execution_count": null,
      "metadata": {
        "id": "PQLfHD4GRujA"
      },
      "outputs": [],
      "source": [
        "x= str (69)\n",
        "type (x)"
      ]
    },
    {
      "cell_type": "code",
      "execution_count": null,
      "metadata": {
        "id": "_vr8Jojo4y4N"
      },
      "outputs": [],
      "source": [
        "x = 'w                                                           '"
      ]
    },
    {
      "cell_type": "code",
      "execution_count": null,
      "metadata": {
        "id": "PLi3ow2IFzQG"
      },
      "outputs": [],
      "source": [
        "\n",
        "for y in x:\n",
        "  if random.randint(0,10) == 6:\n",
        "    y = x.index(y)\n",
        "    x[y].replace\n",
        "print('s' + x + 's')"
      ]
    },
    {
      "cell_type": "code",
      "execution_count": null,
      "metadata": {
        "id": "n1TcAst3_X_e"
      },
      "outputs": [],
      "source": [
        "x = ' ' * 20\n",
        "\n",
        "import random\n",
        "\n",
        "\n",
        "\n",
        "print('s' + x + 's')"
      ]
    },
    {
      "cell_type": "code",
      "execution_count": null,
      "metadata": {
        "id": "1dkji_yZXXY0"
      },
      "outputs": [],
      "source": [
        "import time\n",
        "a='             *    *        '\n",
        "b='              \\  /         '\n",
        "c='           *  *   *   *    '\n",
        "d='            \\__\\_/___/     '\n",
        "e='        0-_/. ()__------   '\n",
        "f='         \\___          /   '\n",
        "g='           \\_ \\_ ___  /    '\n",
        "h='             /  |   ||     '\n",
        "i='            /   |   ||     '\n",
        "time.sleep (3)\n",
        "print (a)\n",
        "time.sleep (2)\n",
        "print (b)\n",
        "time.sleep (2)\n",
        "print (c)\n",
        "time.sleep (2)\n",
        "print (d)\n",
        "time.sleep (2)\n",
        "print (e)\n",
        "time.sleep (2)\n",
        "print (f)\n",
        "time.sleep (2)\n",
        "print (g)\n",
        "time.sleep (2)\n",
        "print (h)\n",
        "time.sleep (2)\n",
        "print (i)\n"
      ]
    },
    {
      "cell_type": "code",
      "execution_count": null,
      "metadata": {
        "id": "hKrSrl29_qcw",
        "colab": {
          "base_uri": "https://localhost:8080/",
          "height": 380
        },
        "outputId": "9b0124bb-0893-45cf-d9c1-1c57622f7c61"
      },
      "outputs": [
        {
          "output_type": "error",
          "ename": "TclError",
          "evalue": "ignored",
          "traceback": [
            "\u001b[0;31m---------------------------------------------------------------------------\u001b[0m",
            "\u001b[0;31mTclError\u001b[0m                                  Traceback (most recent call last)",
            "\u001b[0;32m<ipython-input-2-933a32e7332b>\u001b[0m in \u001b[0;36m<module>\u001b[0;34m()\u001b[0m\n\u001b[1;32m      3\u001b[0m \u001b[0;32mimport\u001b[0m \u001b[0mtime\u001b[0m\u001b[0;34m\u001b[0m\u001b[0;34m\u001b[0m\u001b[0m\n\u001b[1;32m      4\u001b[0m \u001b[0;34m\u001b[0m\u001b[0m\n\u001b[0;32m----> 5\u001b[0;31m \u001b[0mturtle\u001b[0m\u001b[0;34m.\u001b[0m\u001b[0mpenup\u001b[0m\u001b[0;34m(\u001b[0m\u001b[0;34m)\u001b[0m\u001b[0;34m\u001b[0m\u001b[0;34m\u001b[0m\u001b[0m\n\u001b[0m\u001b[1;32m      6\u001b[0m \u001b[0;34m\u001b[0m\u001b[0m\n\u001b[1;32m      7\u001b[0m \u001b[0;32mdef\u001b[0m \u001b[0msnowman\u001b[0m\u001b[0;34m(\u001b[0m\u001b[0;34m)\u001b[0m\u001b[0;34m:\u001b[0m\u001b[0;34m\u001b[0m\u001b[0;34m\u001b[0m\u001b[0m\n",
            "\u001b[0;32m/usr/lib/python3.7/turtle.py\u001b[0m in \u001b[0;36mpenup\u001b[0;34m()\u001b[0m\n",
            "\u001b[0;32m/usr/lib/python3.7/turtle.py\u001b[0m in \u001b[0;36m__init__\u001b[0;34m(self, shape, undobuffersize, visible)\u001b[0m\n\u001b[1;32m   3810\u001b[0m                  visible=_CFG[\"visible\"]):\n\u001b[1;32m   3811\u001b[0m         \u001b[0;32mif\u001b[0m \u001b[0mTurtle\u001b[0m\u001b[0;34m.\u001b[0m\u001b[0m_screen\u001b[0m \u001b[0;32mis\u001b[0m \u001b[0;32mNone\u001b[0m\u001b[0;34m:\u001b[0m\u001b[0;34m\u001b[0m\u001b[0;34m\u001b[0m\u001b[0m\n\u001b[0;32m-> 3812\u001b[0;31m             \u001b[0mTurtle\u001b[0m\u001b[0;34m.\u001b[0m\u001b[0m_screen\u001b[0m \u001b[0;34m=\u001b[0m \u001b[0mScreen\u001b[0m\u001b[0;34m(\u001b[0m\u001b[0;34m)\u001b[0m\u001b[0;34m\u001b[0m\u001b[0;34m\u001b[0m\u001b[0m\n\u001b[0m\u001b[1;32m   3813\u001b[0m         RawTurtle.__init__(self, Turtle._screen,\n\u001b[1;32m   3814\u001b[0m                            \u001b[0mshape\u001b[0m\u001b[0;34m=\u001b[0m\u001b[0mshape\u001b[0m\u001b[0;34m,\u001b[0m\u001b[0;34m\u001b[0m\u001b[0;34m\u001b[0m\u001b[0m\n",
            "\u001b[0;32m/usr/lib/python3.7/turtle.py\u001b[0m in \u001b[0;36mScreen\u001b[0;34m()\u001b[0m\n\u001b[1;32m   3660\u001b[0m     else return the existing one.\"\"\"\n\u001b[1;32m   3661\u001b[0m     \u001b[0;32mif\u001b[0m \u001b[0mTurtle\u001b[0m\u001b[0;34m.\u001b[0m\u001b[0m_screen\u001b[0m \u001b[0;32mis\u001b[0m \u001b[0;32mNone\u001b[0m\u001b[0;34m:\u001b[0m\u001b[0;34m\u001b[0m\u001b[0;34m\u001b[0m\u001b[0m\n\u001b[0;32m-> 3662\u001b[0;31m         \u001b[0mTurtle\u001b[0m\u001b[0;34m.\u001b[0m\u001b[0m_screen\u001b[0m \u001b[0;34m=\u001b[0m \u001b[0m_Screen\u001b[0m\u001b[0;34m(\u001b[0m\u001b[0;34m)\u001b[0m\u001b[0;34m\u001b[0m\u001b[0;34m\u001b[0m\u001b[0m\n\u001b[0m\u001b[1;32m   3663\u001b[0m     \u001b[0;32mreturn\u001b[0m \u001b[0mTurtle\u001b[0m\u001b[0;34m.\u001b[0m\u001b[0m_screen\u001b[0m\u001b[0;34m\u001b[0m\u001b[0;34m\u001b[0m\u001b[0m\n\u001b[1;32m   3664\u001b[0m \u001b[0;34m\u001b[0m\u001b[0m\n",
            "\u001b[0;32m/usr/lib/python3.7/turtle.py\u001b[0m in \u001b[0;36m__init__\u001b[0;34m(self)\u001b[0m\n\u001b[1;32m   3676\u001b[0m         \u001b[0;31m# preserved (perhaps by passing it as an optional parameter)\u001b[0m\u001b[0;34m\u001b[0m\u001b[0;34m\u001b[0m\u001b[0;34m\u001b[0m\u001b[0m\n\u001b[1;32m   3677\u001b[0m         \u001b[0;32mif\u001b[0m \u001b[0m_Screen\u001b[0m\u001b[0;34m.\u001b[0m\u001b[0m_root\u001b[0m \u001b[0;32mis\u001b[0m \u001b[0;32mNone\u001b[0m\u001b[0;34m:\u001b[0m\u001b[0;34m\u001b[0m\u001b[0;34m\u001b[0m\u001b[0m\n\u001b[0;32m-> 3678\u001b[0;31m             \u001b[0m_Screen\u001b[0m\u001b[0;34m.\u001b[0m\u001b[0m_root\u001b[0m \u001b[0;34m=\u001b[0m \u001b[0mself\u001b[0m\u001b[0;34m.\u001b[0m\u001b[0m_root\u001b[0m \u001b[0;34m=\u001b[0m \u001b[0m_Root\u001b[0m\u001b[0;34m(\u001b[0m\u001b[0;34m)\u001b[0m\u001b[0;34m\u001b[0m\u001b[0;34m\u001b[0m\u001b[0m\n\u001b[0m\u001b[1;32m   3679\u001b[0m             \u001b[0mself\u001b[0m\u001b[0;34m.\u001b[0m\u001b[0m_root\u001b[0m\u001b[0;34m.\u001b[0m\u001b[0mtitle\u001b[0m\u001b[0;34m(\u001b[0m\u001b[0m_Screen\u001b[0m\u001b[0;34m.\u001b[0m\u001b[0m_title\u001b[0m\u001b[0;34m)\u001b[0m\u001b[0;34m\u001b[0m\u001b[0;34m\u001b[0m\u001b[0m\n\u001b[1;32m   3680\u001b[0m             \u001b[0mself\u001b[0m\u001b[0;34m.\u001b[0m\u001b[0m_root\u001b[0m\u001b[0;34m.\u001b[0m\u001b[0mondestroy\u001b[0m\u001b[0;34m(\u001b[0m\u001b[0mself\u001b[0m\u001b[0;34m.\u001b[0m\u001b[0m_destroy\u001b[0m\u001b[0;34m)\u001b[0m\u001b[0;34m\u001b[0m\u001b[0;34m\u001b[0m\u001b[0m\n",
            "\u001b[0;32m/usr/lib/python3.7/turtle.py\u001b[0m in \u001b[0;36m__init__\u001b[0;34m(self)\u001b[0m\n\u001b[1;32m    432\u001b[0m     \u001b[0;34m\"\"\"Root class for Screen based on Tkinter.\"\"\"\u001b[0m\u001b[0;34m\u001b[0m\u001b[0;34m\u001b[0m\u001b[0m\n\u001b[1;32m    433\u001b[0m     \u001b[0;32mdef\u001b[0m \u001b[0m__init__\u001b[0m\u001b[0;34m(\u001b[0m\u001b[0mself\u001b[0m\u001b[0;34m)\u001b[0m\u001b[0;34m:\u001b[0m\u001b[0;34m\u001b[0m\u001b[0;34m\u001b[0m\u001b[0m\n\u001b[0;32m--> 434\u001b[0;31m         \u001b[0mTK\u001b[0m\u001b[0;34m.\u001b[0m\u001b[0mTk\u001b[0m\u001b[0;34m.\u001b[0m\u001b[0m__init__\u001b[0m\u001b[0;34m(\u001b[0m\u001b[0mself\u001b[0m\u001b[0;34m)\u001b[0m\u001b[0;34m\u001b[0m\u001b[0;34m\u001b[0m\u001b[0m\n\u001b[0m\u001b[1;32m    435\u001b[0m \u001b[0;34m\u001b[0m\u001b[0m\n\u001b[1;32m    436\u001b[0m     \u001b[0;32mdef\u001b[0m \u001b[0msetupcanvas\u001b[0m\u001b[0;34m(\u001b[0m\u001b[0mself\u001b[0m\u001b[0;34m,\u001b[0m \u001b[0mwidth\u001b[0m\u001b[0;34m,\u001b[0m \u001b[0mheight\u001b[0m\u001b[0;34m,\u001b[0m \u001b[0mcwidth\u001b[0m\u001b[0;34m,\u001b[0m \u001b[0mcheight\u001b[0m\u001b[0;34m)\u001b[0m\u001b[0;34m:\u001b[0m\u001b[0;34m\u001b[0m\u001b[0;34m\u001b[0m\u001b[0m\n",
            "\u001b[0;32m/usr/lib/python3.7/tkinter/__init__.py\u001b[0m in \u001b[0;36m__init__\u001b[0;34m(self, screenName, baseName, className, useTk, sync, use)\u001b[0m\n\u001b[1;32m   2021\u001b[0m                 \u001b[0mbaseName\u001b[0m \u001b[0;34m=\u001b[0m \u001b[0mbaseName\u001b[0m \u001b[0;34m+\u001b[0m \u001b[0mext\u001b[0m\u001b[0;34m\u001b[0m\u001b[0;34m\u001b[0m\u001b[0m\n\u001b[1;32m   2022\u001b[0m         \u001b[0minteractive\u001b[0m \u001b[0;34m=\u001b[0m \u001b[0;36m0\u001b[0m\u001b[0;34m\u001b[0m\u001b[0;34m\u001b[0m\u001b[0m\n\u001b[0;32m-> 2023\u001b[0;31m         \u001b[0mself\u001b[0m\u001b[0;34m.\u001b[0m\u001b[0mtk\u001b[0m \u001b[0;34m=\u001b[0m \u001b[0m_tkinter\u001b[0m\u001b[0;34m.\u001b[0m\u001b[0mcreate\u001b[0m\u001b[0;34m(\u001b[0m\u001b[0mscreenName\u001b[0m\u001b[0;34m,\u001b[0m \u001b[0mbaseName\u001b[0m\u001b[0;34m,\u001b[0m \u001b[0mclassName\u001b[0m\u001b[0;34m,\u001b[0m \u001b[0minteractive\u001b[0m\u001b[0;34m,\u001b[0m \u001b[0mwantobjects\u001b[0m\u001b[0;34m,\u001b[0m \u001b[0museTk\u001b[0m\u001b[0;34m,\u001b[0m \u001b[0msync\u001b[0m\u001b[0;34m,\u001b[0m \u001b[0muse\u001b[0m\u001b[0;34m)\u001b[0m\u001b[0;34m\u001b[0m\u001b[0;34m\u001b[0m\u001b[0m\n\u001b[0m\u001b[1;32m   2024\u001b[0m         \u001b[0;32mif\u001b[0m \u001b[0museTk\u001b[0m\u001b[0;34m:\u001b[0m\u001b[0;34m\u001b[0m\u001b[0;34m\u001b[0m\u001b[0m\n\u001b[1;32m   2025\u001b[0m             \u001b[0mself\u001b[0m\u001b[0;34m.\u001b[0m\u001b[0m_loadtk\u001b[0m\u001b[0;34m(\u001b[0m\u001b[0;34m)\u001b[0m\u001b[0;34m\u001b[0m\u001b[0;34m\u001b[0m\u001b[0m\n",
            "\u001b[0;31mTclError\u001b[0m: no display name and no $DISPLAY environment variable"
          ]
        }
      ],
      "source": [
        "import turtle\n",
        "import random\n",
        "import time\n",
        "\n",
        "turtle.penup()\n",
        "\n",
        "def snowman():\n",
        "    turtle.setposition(0,-150)\n",
        "    turtle.pendown()\n",
        "    turtle.circle(50,360)\n",
        "    turtle.penup()\n",
        "\n",
        "    turtle.setposition(0,-50)\n",
        "    turtle.pendown()\n",
        "    turtle.circle(40,360)\n",
        "    turtle.penup()\n",
        "\n",
        "    turtle.setposition(0,30)\n",
        "    turtle.pendown()\n",
        "    turtle.circle(30,360)\n",
        "    turtle.penup()\n",
        "\n",
        "    turtle.setposition(-8,70)\n",
        "    turtle.pendown()\n",
        "    turtle.circle(3,360)\n",
        "    turtle.penup()\n",
        "\n",
        "    turtle.setposition(8,70)\n",
        "    turtle.pendown()\n",
        "    turtle.circle(3,360)\n",
        "    turtle.penup()\n",
        "\n",
        "    turtle.setposition(-3,58)\n",
        "    turtle.pendown()\n",
        "    turtle.setheading(90)\n",
        "    turtle.right(90)\n",
        "    turtle.forward(25)\n",
        "    turtle.left(160)\n",
        "    turtle.forward(25)\n",
        "    turtle.penup()\n",
        "\n",
        "    turtle.setposition(-8,50)\n",
        "    turtle.pendown()\n",
        "    turtle.setheading(300)\n",
        "    turtle.circle(12,120)\n",
        "    turtle.penup()\n",
        "\n",
        "    turtle.setposition(2,10)\n",
        "    turtle.pendown()\n",
        "    turtle.circle(4,360)\n",
        "    turtle.penup()\n",
        "\n",
        "    turtle.setposition(2,-10)\n",
        "    turtle.pendown()\n",
        "    turtle.circle(4,360)\n",
        "    turtle.penup()\n",
        "\n",
        "    turtle.setposition(2,-30)\n",
        "    turtle.pendown()\n",
        "    turtle.circle(4,360)\n",
        "    turtle.penup()\n",
        "\n",
        "    turtle.setposition(-36,10)\n",
        "    turtle.pendown()\n",
        "    turtle.setheading(250)\n",
        "    turtle.forward(60)\n",
        "    turtle.right(180)\n",
        "    turtle.forward(20)\n",
        "    turtle.right(150)\n",
        "    turtle.forward(20)\n",
        "    turtle.right(180)\n",
        "    turtle.forward(20)\n",
        "    turtle.left(100)\n",
        "    turtle.forward(20)\n",
        "    turtle.penup()\n",
        "\n",
        "    turtle.setposition(36,10)\n",
        "    turtle.pendown()\n",
        "    turtle.setheading(300)\n",
        "    turtle.forward(60)\n",
        "    turtle.right(180)\n",
        "    turtle.forward(20)\n",
        "    turtle.right(150)\n",
        "    turtle.forward(20)\n",
        "    turtle.right(180)\n",
        "    turtle.forward(20)\n",
        "    turtle.left(100)\n",
        "    turtle.forward(20)\n",
        "    turtle.penup()\n",
        "\n",
        "    \n",
        "    turtle.setheading(90)\n",
        "    turtle.right(90)\n",
        "    turtle.setposition(-30,90)\n",
        "    turtle.pendown()\n",
        "    turtle.forward(60)\n",
        "    turtle.left(90)\n",
        "    turtle.forward(10)\n",
        "    turtle.left(90)\n",
        "    turtle.forward(10)\n",
        "    turtle.right(90)\n",
        "    turtle.forward(20)\n",
        "    turtle.left(90)\n",
        "    turtle.forward(40)\n",
        "    turtle.left(90)\n",
        "    turtle.forward(20)\n",
        "    turtle.right(90)\n",
        "    turtle.forward(10)\n",
        "    turtle.left(90)\n",
        "    turtle.forward(10)\n",
        "\n",
        "    turtle.penup()\n",
        "\n",
        "def draw(hor,ver):\n",
        "    turtle.setposition(hor,ver)\n",
        "    turtle.pendown()\n",
        "    x = 0\n",
        "    while x < 16:\n",
        "        x = x + 1\n",
        "        turtle.circle(60,60)\n",
        "        turtle.left(132)\n",
        "    turtle.penup()\n",
        "\n",
        "def line():\n",
        "  turtle.penup()\n",
        "  turtle.setposition(-300,-100)\n",
        "  turtle.setheading(90)\n",
        "  turtle.right(90)\n",
        "  turtle.pendown()\n",
        "  turtle.forward(250)\n",
        "  turtle.penup()\n",
        "  turtle.forward(100)\n",
        "  turtle.pendown()\n",
        "  turtle.forward(250)\n",
        "  turtle.penup()\n",
        "\n",
        "def heart():\n",
        "    turtle.setposition(-200,-20)\n",
        "    turtle.pendown()\n",
        "    turtle.setheading(125)\n",
        "    turtle.forward(80)\n",
        "    x = 0\n",
        "    while x < 88:\n",
        "        x = x + 1\n",
        "        turtle.right(2)\n",
        "        turtle.forward(1)\n",
        "    turtle.penup()\n",
        "\n",
        "    turtle.setposition(-200,-20)\n",
        "    turtle.pendown()\n",
        "    turtle.setheading(55)\n",
        "    turtle.forward(80)\n",
        "    x = 0\n",
        "    while x < 88:\n",
        "        x = x + 1\n",
        "        turtle.left(2)\n",
        "        turtle.forward(1)\n",
        "    turtle.penup()\n",
        "\n",
        "def stars():\n",
        "    turtle.speed(0)\n",
        "    n = 0\n",
        "    while n < 10:\n",
        "        n = n + 1\n",
        "        hor = ((-300) + (n*50))\n",
        "        draw(hor,random.randint(100,250))\n",
        "\n",
        "def words():\n",
        "    time.sleep(2)\n",
        "    turtle.setposition(-100,-200)\n",
        "    style = ('Cursive Script', 30, 'italic')\n",
        "    turtle.write('Merry Christmas Erin!', font=style, align='center')\n",
        "    time.sleep(1)\n",
        "    turtle.setposition(120,-250)\n",
        "    turtle.write('I love you <3', font=style, align='center')\n",
        "    turtle.hideturtle()\n",
        "\n",
        "snowman()\n",
        "heart()\n",
        "line()\n",
        "stars()\n",
        "words()\n",
        "\n",
        "    \n",
        "\n",
        "\n",
        "\n",
        "\n",
        "\n",
        "\n",
        "\n"
      ]
    }
  ],
  "metadata": {
    "colab": {
      "collapsed_sections": [],
      "name": "OurProjects.ipynb",
      "provenance": [],
      "include_colab_link": true
    },
    "kernelspec": {
      "display_name": "Python 3",
      "name": "python3"
    },
    "language_info": {
      "name": "python"
    }
  },
  "nbformat": 4,
  "nbformat_minor": 0
}