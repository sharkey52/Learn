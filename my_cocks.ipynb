{
  "nbformat": 4,
  "nbformat_minor": 0,
  "metadata": {
    "colab": {
      "name": "my_cocks.ipynb",
      "provenance": [],
      "authorship_tag": "ABX9TyNEDpZhjMDTNtjllLwnb05c",
      "include_colab_link": true
    },
    "kernelspec": {
      "name": "python3",
      "display_name": "Python 3"
    },
    "language_info": {
      "name": "python"
    }
  },
  "cells": [
    {
      "cell_type": "markdown",
      "metadata": {
        "id": "view-in-github",
        "colab_type": "text"
      },
      "source": [
        "<a href=\"https://colab.research.google.com/github/sharkey52/Learn/blob/main/my_cocks.ipynb\" target=\"_parent\"><img src=\"https://colab.research.google.com/assets/colab-badge.svg\" alt=\"Open In Colab\"/></a>"
      ]
    },
    {
      "cell_type": "code",
      "execution_count": null,
      "metadata": {
        "id": "7UpiNH50mlS0"
      },
      "outputs": [],
      "source": [
        "orangemojito = {'white rum':'25ml','tripple sec':'25ml','orange juice':'a little bit','lime juice':'a little bit','mint':'a little bit','lemonade':'some'}\n",
        "mojito = {'white rum':'50ml','lime juice':'a little bit','lemon juice':'a little bit','lemonade':'a little bit'}\n",
        "pornstar = {'vanilla_vodka':'50ml','passionfruit juice':'a little bit','sugar syrup':'a little bit'}\n",
        "oldfashioned = {'whiskey','aromatic bitters','sugar syrup'}\n",
        "whiskeysour = {'whiskey':'50ml','lemon juice':'a little bit','sugar syrup':'a little bit'}\n",
        "\n",
        "bottles = {'whiskey':28,\n",
        "        'vanilla vodka':28,\n",
        "        'white rum':28,\n",
        "        'tripplesec':28,\n",
        "        'another drink':28}\n",
        "\n",
        "recipe = whiskeysour\n",
        "\n",
        "def checkbottles(bottles,recipe):\n",
        "    for item in recipe:\n",
        "        if item in bottles:\n",
        "            bottles[item] = bottles[item] - 1\n",
        "            \n",
        "    return bottles\n",
        "\n",
        "def printrecipe(recipe):\n",
        "    print('You will need...:')\n",
        "    for item in recipe:\n",
        "        print(recipe[item] + ' of ' + item)\n",
        "\n",
        "\n",
        "printrecipe(recipe)\n",
        "bottles = checkbottles(bottles,recipe)\n",
        "\n",
        "print(bottles)"
      ]
    }
  ]
}